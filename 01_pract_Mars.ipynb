{
  "nbformat": 4,
  "nbformat_minor": 0,
  "metadata": {
    "colab": {
      "provenance": []
    },
    "kernelspec": {
      "name": "python3",
      "display_name": "Python 3"
    },
    "language_info": {
      "name": "python"
    }
  },
  "cells": [
    {
      "cell_type": "code",
      "source": [
        "#Зинёв Владимир ПМ 21-6"
      ],
      "metadata": {
        "id": "vdfbYKq0PnfY"
      },
      "execution_count": null,
      "outputs": []
    },
    {
      "cell_type": "code",
      "execution_count": 5,
      "metadata": {
        "colab": {
          "base_uri": "https://localhost:8080/"
        },
        "id": "qPifIKejMvPA",
        "outputId": "659b79fd-33a7-43a3-88f9-02bcf834d9b0"
      },
      "outputs": [
        {
          "output_type": "stream",
          "name": "stdout",
          "text": [
            "https://mars.nasa.gov/msl-raw-images/msss/03549/mcam/3549ML1024791101305877E01_DXXX.jpg\n",
            "https://mars.nasa.gov/msl-raw-images/msss/03549/mcam/3549ML1024790461305813E01_DXXX.jpg\n",
            "https://mars.nasa.gov/msl-raw-images/msss/03549/mcam/3549ML1024790081305775E01_DXXX.jpg\n"
          ]
        }
      ],
      "source": [
        "import requests\n",
        "import random\n",
        "\n",
        "# Задаем параметры запроса\n",
        "url = \"https://api.nasa.gov/mars-photos/api/v1/rovers/curiosity/photos\"\n",
        "params = {\n",
        "\"earth_date\": \"2022-07-31\",\n",
        "\"api_key\": \"MbNWQfHAsg9gatULkp04nACdeqPBrJqihYNQSEWo\"\n",
        "}\n",
        "\n",
        "# Получаем ответ от API и выбираем случайные три фотографии   \n",
        "response = requests.get(url, params=params)\n",
        "photos = response.json()[\"photos\"]\n",
        "random_photos = random.sample(photos, 3)\n",
        "\n",
        "# Выводим URL каждой фотографии\n",
        "for photo in random_photos:\n",
        "    print(photo[\"img_src\"])"
      ]
    },
    {
      "cell_type": "code",
      "source": [],
      "metadata": {
        "id": "bFXb58asMv5N"
      },
      "execution_count": null,
      "outputs": []
    }
  ]
}